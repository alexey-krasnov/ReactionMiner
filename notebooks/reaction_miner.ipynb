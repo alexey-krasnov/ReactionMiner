{
 "cells": [
  {
   "cell_type": "markdown",
   "source": [
    "# Notebook to use Reaction Miner"
   ],
   "metadata": {
    "collapsed": false
   },
   "id": "251c7e46a34c3d65"
  },
  {
   "cell_type": "code",
   "execution_count": 2,
   "id": "initial_id",
   "metadata": {
    "collapsed": true,
    "ExecuteTime": {
     "end_time": "2024-01-24T10:35:56.544238Z",
     "start_time": "2024-01-24T10:35:52.915480Z"
    }
   },
   "outputs": [],
   "source": [
    "import os\n",
    "import json\n",
    "from os.path import join\n",
    "\n",
    "from ReactionMiner.pdf2text.generalParser import parseFile\n",
    "from ReactionMiner.segmentation.segmentor import TopicSegmentor\n",
    "from ReactionMiner.extraction.extractor import ReactionExtractor"
   ]
  },
  {
   "cell_type": "code",
   "execution_count": null,
   "outputs": [],
   "source": [
    "pdf_path = \"copper_acetate.pdf\"\n",
    "\n",
    "# Stage I: pdf to text\n",
    "# The results will be automatically saved to pdf2text/results\n",
    "print(\"########## Stage I: PDF-to-Text ##########\")\n",
    "\n",
    "result = parseFile(pdf_path)\n",
    "full_text = result['fullText'] # Text without paragraph information\n",
    "paragraphs = result['contents']  # Text with paragraph boundaries\n",
    "\n",
    "# Stage II: text segmentation\n",
    "print(\"########## Stage II: Text Segmentation ##########\")\n",
    "segmentor = TopicSegmentor()\n",
    "seg_texts = segmentor.segment(paragraphs)\n",
    "\n",
    "# Stage III: reaction extraction\n",
    "print(\"########## Stage III: Reaction Extraction ##########\")\n",
    "extractor = ReactionExtractor('7b')\n",
    "reactions = extractor.extract(seg_texts)\n",
    "\n",
    "# Save the extracted chemical reactions\n",
    "write_path = 'extraction/results'\n",
    "os.makedirs(write_path, exist_ok=True)\n",
    "reaction_path = os.path.splitext(pdf_path)[0] + '.json'\n",
    "full_path = join(write_path, reaction_path)\n",
    "with open(full_path, 'w', encoding='utf-8') as f:\n",
    "    json.dump(reactions, f, indent=4, ensure_ascii=False)\n",
    "print(f\"The results are stored in {full_path}\")\n"
   ],
   "metadata": {
    "collapsed": false
   },
   "id": "123c7ea1b19c2727"
  }
 ],
 "metadata": {
  "kernelspec": {
   "display_name": "Python 3",
   "language": "python",
   "name": "python3"
  },
  "language_info": {
   "codemirror_mode": {
    "name": "ipython",
    "version": 2
   },
   "file_extension": ".py",
   "mimetype": "text/x-python",
   "name": "python",
   "nbconvert_exporter": "python",
   "pygments_lexer": "ipython2",
   "version": "2.7.6"
  }
 },
 "nbformat": 4,
 "nbformat_minor": 5
}
